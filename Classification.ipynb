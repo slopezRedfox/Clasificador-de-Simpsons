{
 "cells": [
  {
   "cell_type": "markdown",
   "metadata": {
    "colab_type": "text",
    "id": "LCqFQJGDpj5m"
   },
   "source": [
    "# Inclusión de bilbiotecas y set de imagenes"
   ]
  },
  {
   "cell_type": "code",
   "execution_count": null,
   "metadata": {
    "colab": {
     "base_uri": "https://localhost:8080/",
     "height": 122
    },
    "colab_type": "code",
    "id": "xsjfr1r5j4K4",
    "outputId": "ba96eef6-1918-4c6f-9be6-6b662f327b41"
   },
   "outputs": [
    {
     "name": "stdout",
     "output_type": "stream",
     "text": [
      "Go to this URL in a browser: https://accounts.google.com/o/oauth2/auth?client_id=947318989803-6bn6qk8qdgf4n4g3pfee6491hc0brc4i.apps.googleusercontent.com&redirect_uri=urn%3aietf%3awg%3aoauth%3a2.0%3aoob&response_type=code&scope=email%20https%3a%2f%2fwww.googleapis.com%2fauth%2fdocs.test%20https%3a%2f%2fwww.googleapis.com%2fauth%2fdrive%20https%3a%2f%2fwww.googleapis.com%2fauth%2fdrive.photos.readonly%20https%3a%2f%2fwww.googleapis.com%2fauth%2fpeopleapi.readonly\n",
      "\n",
      "Enter your authorization code:\n",
      "··········\n",
      "Mounted at /content/drive\n"
     ]
    }
   ],
   "source": [
    "#Se va a agregar el drive al entorno para poder mover archivos más facilmente\n",
    "from google.colab import drive\n",
    "drive.mount('/content/drive')"
   ]
  },
  {
   "cell_type": "markdown",
   "metadata": {
    "colab_type": "text",
    "id": "8pdwEfpihXLL"
   },
   "source": [
    "## Inclusión de set de imagenes y las etiquetas\n"
   ]
  },
  {
   "cell_type": "markdown",
   "metadata": {
    "colab_type": "text",
    "id": "_fwoPTJoimD2"
   },
   "source": [
    "Se tienen dos opciones para subir las imagenes y las etiquetas a la nuve\n",
    "\n",
    "La primera opción es descargar directamente del link dado en el github y subirlas como un archivo zip y agregarlos a la nube como se muestra a continuación:"
   ]
  },
  {
   "cell_type": "code",
   "execution_count": null,
   "metadata": {
    "colab": {
     "base_uri": "https://localhost:8080/",
     "height": 51
    },
    "colab_type": "code",
    "id": "J6Lf-A5wkW1h",
    "outputId": "5a141d51-3505-4bd8-d73b-75f22512fc04"
   },
   "outputs": [
    {
     "name": "stdout",
     "output_type": "stream",
     "text": [
      "Copy done!\n",
      "Unzip done!\n"
     ]
    }
   ],
   "source": [
    "#Para facilidad se sugiere subir al drive personal el DataSet de los Simpsons en un zip y descomprimirlo en ruta aquí\n",
    "#Este pesa cerca de 1GB pero no va a consumir más memoria que eso\n",
    "\n",
    "#Instruccion cp de copiado, se sigue de la direccion en la que se tiene el zip con los datos\n",
    "#y se copia directamente en ./content con el mismo nombre\n",
    "#Para este ejemplo, el nombre del zip es \"Images_Simpsons.zip\"\n",
    "!cp /content/drive/'My Drive'/CoffeeCoffee/Images_Simpsons.zip Images_Simpsons.zip\n",
    "print('Copy done!')\n",
    "\n",
    "#Instruccion unzip para descomprimir -qq es la opción de silenciar salida, así no hay tanto ruido\n",
    "!unzip -qq Images_Simpsons.zip\n",
    "print('Unzip done!')"
   ]
  },
  {
   "cell_type": "markdown",
   "metadata": {
    "colab_type": "text",
    "id": "a5V5HMAtjU0K"
   },
   "source": [
    "La segunda opción es descargarlos directamente desde el link de dropbox que se da a continuación, aunque esta opción no se recomienda si se ha hecho modificaciones al set de datos."
   ]
  },
  {
   "cell_type": "code",
   "execution_count": 1,
   "metadata": {
    "colab": {
     "base_uri": "https://localhost:8080/",
     "height": 51
    },
    "colab_type": "code",
    "id": "R0iu1wjfcV_b",
    "outputId": "2b3c6008-6b07-4161-bf60-3d667253106a"
   },
   "outputs": [
    {
     "name": "stdout",
     "output_type": "stream",
     "text": [
      "Copy done!\n"
     ]
    },
    {
     "name": "stderr",
     "output_type": "stream",
     "text": [
      "'wget' is not recognized as an internal or external command,\n",
      "operable program or batch file.\n"
     ]
    },
    {
     "name": "stdout",
     "output_type": "stream",
     "text": [
      "Unzip done!\n"
     ]
    },
    {
     "name": "stderr",
     "output_type": "stream",
     "text": [
      "'unzip' is not recognized as an internal or external command,\n",
      "operable program or batch file.\n"
     ]
    }
   ],
   "source": [
    "#Descarga directamente el set de datos y etiquetas\n",
    "!wget -c -qq https://www.dropbox.com/s/q2nu20ucnpergu3/Images_Simpsons.zip\n",
    "print('Copy done!')\n",
    "\n",
    "#Instruccion unzip para descomprimir -qq es la opción de silenciar salida, así no hay tanto ruido\n",
    "!unzip -qq Images_Simpsons.zip\n",
    "print('Unzip done!')"
   ]
  },
  {
   "cell_type": "markdown",
   "metadata": {
    "colab_type": "text",
    "id": "gCOgAxaJkjuD"
   },
   "source": [
    "## Inclusión de bibliotecas"
   ]
  },
  {
   "cell_type": "code",
   "execution_count": null,
   "metadata": {
    "colab": {
     "base_uri": "https://localhost:8080/",
     "height": 34
    },
    "colab_type": "code",
    "id": "wVzItQDrkNK7",
    "outputId": "170067ea-4895-4f53-b3db-070ec407879d"
   },
   "outputs": [
    {
     "name": "stderr",
     "output_type": "stream",
     "text": [
      "Using TensorFlow backend.\n"
     ]
    }
   ],
   "source": [
    "#Se importan las bibliotecas. En caso de querer hacer este proceso directamente\n",
    "#en un ordenador se deben instalar las bilbiotecas que se indican a continuacion:\n",
    "\n",
    "import numpy as np\n",
    "import cv2\n",
    "import matplotlib.pyplot as plt\n",
    "import pickle\n",
    "import h5py\n",
    "import sklearn\n",
    "import glob\n",
    "import keras\n",
    "import time\n",
    "import imp\n",
    "import os\n",
    "import tensorflow as tf \n",
    "import pandas as pd\n",
    "\n",
    "#Estas bibliotecas no son necesarias en su totalidad, solo se requieren ciertas\n",
    "#funciones\n",
    "from random import shuffle\n",
    "from skimage import io\n",
    "from collections import Counter\n",
    "from PIL import Image, ImageFont, ImageDraw, ImageEnhance\n",
    "\n",
    "#Importe de funciones especificas de bibliotecas ya importadas\n",
    "from sklearn.model_selection import train_test_split\n",
    "from keras.preprocessing.image import ImageDataGenerator\n",
    "from keras.callbacks import LearningRateScheduler, ModelCheckpoint\n",
    "from keras.models import Sequential\n",
    "from keras.layers import Dense, Dropout, Activation, Flatten\n",
    "from keras.layers import Conv2D, MaxPooling2D\n",
    "from keras.optimizers import SGD, Adam\n",
    "\n",
    "#lineas requeridas solo en jupyter notbook\n",
    "%matplotlib inline\n",
    "%tensorflow_version 2.x"
   ]
  },
  {
   "cell_type": "markdown",
   "metadata": {
    "colab_type": "text",
    "id": "grclKxNPkqo6"
   },
   "source": [
    "# Manejo de datos, entrenamiento y pruebas"
   ]
  },
  {
   "cell_type": "markdown",
   "metadata": {
    "colab_type": "text",
    "id": "B4U_cyn-ygjP"
   },
   "source": [
    "## Lectura y preprocesado de datos"
   ]
  },
  {
   "cell_type": "code",
   "execution_count": null,
   "metadata": {
    "colab": {
     "base_uri": "https://localhost:8080/",
     "height": 374
    },
    "colab_type": "code",
    "id": "rs4yleHOvJhj",
    "outputId": "79a1139e-851d-4e57-ccad-526bc8a1ab48"
   },
   "outputs": [
    {
     "name": "stdout",
     "output_type": "stream",
     "text": [
      "Train (14426, 64, 64, 3) (14426, 19)\n",
      "Test (2546, 64, 64, 3) (2546, 19)\n",
      "ned_flanders : 1011 train pictures & 165 test pictures\n",
      "principal_skinner : 1009 train pictures & 167 test pictures\n",
      "bart_simpson : 1003 train pictures & 173 test pictures\n",
      "krusty_the_clown : 1003 train pictures & 173 test pictures\n",
      "lisa_simpson : 1002 train pictures & 174 test pictures\n",
      "charles_montgomery_burns : 993 train pictures & 183 test pictures\n",
      "homer_simpson : 992 train pictures & 184 test pictures\n",
      "moe_szyslak : 983 train pictures & 193 test pictures\n",
      "marge_simpson : 970 train pictures & 206 test pictures\n",
      "milhouse_van_houten : 913 train pictures & 166 test pictures\n",
      "chief_wiggum : 850 train pictures & 136 test pictures\n",
      "abraham_grampa_simpson : 786 train pictures & 127 test pictures\n",
      "sideshow_bob : 754 train pictures & 123 test pictures\n",
      "apu_nahasapeemapetilon : 539 train pictures & 84 test pictures\n",
      "kent_brockman : 435 train pictures & 63 test pictures\n",
      "comic_book_guy : 405 train pictures & 64 test pictures\n",
      "edna_krabappel : 375 train pictures & 82 test pictures\n",
      "nelson_muntz : 294 train pictures & 64 test pictures\n",
      "maggie_simpson : 109 train pictures & 19 test pictures\n"
     ]
    }
   ],
   "source": [
    "#Se inicia definiendo el diccionario map_characters, este posee originalmente 18\n",
    "#personajes, si se agrega otro más se debe agregar al diccionario y colocarsele \n",
    "#el número consecutivo que corresponda\n",
    "map_characters = {0: 'abraham_grampa_simpson', \n",
    "                  1: 'apu_nahasapeemapetilon', \n",
    "                  2: 'bart_simpson',\n",
    "                  3: 'charles_montgomery_burns', \n",
    "                  4: 'chief_wiggum', \n",
    "                  5: 'comic_book_guy', \n",
    "                  6: 'edna_krabappel', \n",
    "                  7: 'homer_simpson', \n",
    "                  8: 'kent_brockman', \n",
    "                  9: 'krusty_the_clown', \n",
    "                  10: 'lisa_simpson', \n",
    "                  11: 'marge_simpson', \n",
    "                  12: 'milhouse_van_houten', \n",
    "                  13: 'moe_szyslak', \n",
    "                  14: 'ned_flanders', \n",
    "                  15: 'nelson_muntz', \n",
    "                  16: 'principal_skinner', \n",
    "                  17: 'sideshow_bob',\n",
    "                  18: 'maggie_simpson'}\n",
    "                  \n",
    "#Se define el numero de clases con la extensión del diccionario\n",
    "num_classes = len(map_characters)\n",
    "\n",
    "#Número máximo de imagenes que se usaran por personaje para entrenar\n",
    "pictures_per_class = 1000\n",
    "\n",
    "def load_pictures(test_size, pic_size,BGR):\n",
    "    \"\"\"\n",
    "    Load pictures from folders for characters from the map_characters dict and create a numpy dataset and \n",
    "    a numpy labels set. Pictures are re-sized into picture_size square.\n",
    "    :param BGR: boolean to use true color for the picture (RGB instead of BGR for plt)\n",
    "    :return: dataset, labels set\n",
    "    \"\"\"\n",
    "    pics = []    #Se crea la lista de imagenes de salida\n",
    "    labels = []  #Se crea la lista de etiquetas de salida\n",
    "\n",
    "    #k es el numero de la variable en el diccionario\n",
    "    #char es el nombre de la variable en el diccionario\n",
    "    # El if lo que hace es que recorra cada una de las variables del diccionario\n",
    "    for k, char in map_characters.items(): \n",
    "\n",
    "        #Esta linea deivuelve la lista de rutas de las imagenes de cada personaje del diccionario\n",
    "        # Ej: para char = 'abraham_grampa_simpson' regresa todas las rutas de imagen de la carpeta\n",
    "        # abraham_grampa_simpson que a su vez esta en la carpeta characters.\n",
    "        #Es solo una forma elegante y rapida de optener todas las rutas \n",
    "        pictures = [k for k in glob.glob('./characters/%s/*' % char)]\n",
    "\n",
    "        #Se establece la cantidad de imagenes que se van a usar en cada clase\n",
    "        #Como maximo se usan 1176 imagenes, estas son tanto para train como para test\n",
    "        #Si el personaje en particular tiene menos de 1176 imagenes se usara la extension del personaje en cuestion\n",
    "        nb_pic = round(pictures_per_class/(1-test_size)) if round(pictures_per_class/(1-test_size))<len(pictures) else len(pictures)\n",
    "\n",
    "        #Se usa la funcion random para ordenar de manera aleatoria las imagenes de cada personaje\n",
    "        #Cabe detacar que pic es una ruta de acceso aleatoria de la lista de rutas de acceso en pictures\n",
    "        for pic in np.random.choice(pictures, nb_pic):\n",
    "\n",
    "            #Se lee la imagen de la ruta \"pic\"\n",
    "            a = cv2.imread(pic)\n",
    "\n",
    "            #Si se desea se usa RGB se hace la transformacion de BGR, que es la lectura original\n",
    "            #Por defecto este cambio no se hace a menos que se especifique\n",
    "            if BGR:\n",
    "                a = cv2.cvtColor(a, cv2.COLOR_BGR2RGB)\n",
    "            \n",
    "            #Se hace un resize de las imagenes a pic_size x pic_size. Por defecoto\n",
    "            #este es 64x64. Esto concuerda con los pixeles de entrada de la red neuronal\n",
    "            a = cv2.resize(a, (pic_size,pic_size))\n",
    "\n",
    "            #Se agrega la imagen leida, convertida y escalada a la lista pics\n",
    "            pics.append(a)\n",
    "            #Se agrega la etiqueta numérica de la lista de etiquetas, esta etiqueta numerica \n",
    "            #concuerda con el número en el diccionario map_characters\n",
    "            labels.append(k)\n",
    "\n",
    "    #Se devuelve las listas pero antes se transforman a un formato de array con numpy\n",
    "    return np.array(pics), np.array(labels) \n",
    "\n",
    "def get_dataset(save=False, load=False, BGR=False, test_size=0.15, pic_size=64):\n",
    "    \"\"\"\n",
    "    Create the actual dataset split into train and test, pictures content is as float32 and\n",
    "    normalized (/255.). The dataset could be saved or loaded from h5 files.\n",
    "    :param save: saving or not the created dataset\n",
    "    :param load: loading or not the dataset\n",
    "    :param BGR: boolean to use true color for the picture (RGB instead of BGR for plt)\n",
    "    :return: X_train, X_test, y_train, y_test (numpy arrays)\n",
    "    \"\"\"\n",
    "    #Si ya se tienen listos de antemano se cargan directamente de memoria, por \n",
    "    #defecto esta opcion esta desactivada\n",
    "    if load:\n",
    "        #Se lee directamente el archivo 'dataset.h5', aqui estan tanto el set de \n",
    "        #entrenamiento como el de test \n",
    "        h5f = h5py.File('dataset.h5','r')\n",
    "        \n",
    "        #Se divide entre set de train y set de test, esto gracias a la etiqueta\n",
    "        #que el archivo .h5 trae, similar a un formato .json\n",
    "        X_train = h5f['X_train'][:]\n",
    "        X_test = h5f['X_test'][:]\n",
    "        h5f.close()\n",
    "\n",
    "        #Se hace un proceso igual pero para los labels\n",
    "        h5f = h5py.File('labels.h5','r')\n",
    "        y_train = h5f['y_train'][:]\n",
    "        y_test = h5f['y_test'][:]\n",
    "        h5f.close()    \n",
    "    \n",
    "    #En caso de que no esten en memoria los sets de entrenamiento y test se \n",
    "    #realiza todo el procesamiento desde cero\n",
    "    else:\n",
    "        #Primero se llama a la funcion load_pictures, por defecto se deja estas en \n",
    "        #blanco y negro\n",
    "        #En esta funcion tambien se extraen los labels del archivo txt anotations\n",
    "        X, y = load_pictures(test_size, pic_size, BGR)\n",
    "\n",
    "        #Luego se pasa los labels a un formato numerico y en listas separadas,\n",
    "        #por ejemplo si el label es 2 to_categorical lo pasa a una lista [0 0 1 ... 0]\n",
    "        #El tamaño de la lista depende de cuantas clases se tenga, en este ejemplo son 18\n",
    "        y = keras.utils.to_categorical(y, num_classes)\n",
    "\n",
    "        #Posteriormente se divide todos los datos en set de train y test, el tamaño del\n",
    "        #set de test esta dado por la variable test_size, por defecto es 15%\n",
    "        X_train, X_test, y_train, y_test = train_test_split(X, y, test_size=test_size)\n",
    "        \n",
    "        #Se guarda los sets creados en archivos con formato .h5, tanto los labels como\n",
    "        #las imagenes\n",
    "        if save:\n",
    "            h5f = h5py.File('dataset.h5', 'w')\n",
    "            h5f.create_dataset('X_train', data=X_train)\n",
    "            h5f.create_dataset('X_test', data=X_test)\n",
    "            h5f.close()\n",
    "\n",
    "            h5f = h5py.File('labels.h5', 'w')\n",
    "            h5f.create_dataset('y_train', data=y_train)\n",
    "            h5f.create_dataset('y_test', data=y_test)\n",
    "            h5f.close()\n",
    "\n",
    "    #Se normaliza las imagenes para que los valores de cada banda esten en punto flotante\n",
    "    #y además se encuentren entre 0 y 1. Esto ayuda a la velocidad de entrenamiento           \n",
    "    X_train = X_train.astype('float32') / 255.\n",
    "    X_test = X_test.astype('float32') / 255.\n",
    "    \n",
    "    #Se imprime las formas de cada tensor. Si se mantienen todas las variables \n",
    "    #por defecto estas deben ser (x,64,64,3) y (x,w), donde x es el numero de imagenes\n",
    "    #y w es la cantidad de clases en el diccionario\n",
    "    print(\"Train\", X_train.shape, y_train.shape)\n",
    "    print(\"Test\", X_test.shape, y_test.shape)\n",
    "\n",
    "    #Imprime la cantidad de imagenes por personaje y la cantidad de imagenes en \n",
    "    #que se pusieron en el set de train y en el set de test\n",
    "    if not load:\n",
    "        #Se crea un diccionario donde cada variable esta asociada a una lista que contiene la extension del set\n",
    "        #de train y test para cada personaje\n",
    "        dist = {k:tuple(d[k] for d in [dict(Counter(np.where(y_train==1)[1])), dict(Counter(np.where(y_test==1)[1]))]) \n",
    "                for k in range(num_classes)}\n",
    "\n",
    "        #Se imprime en orden decendente\n",
    "        print('\\n'.join([\"%s : %d train pictures & %d test pictures\" % (map_characters[k], v[0], v[1]) \n",
    "            for k,v in sorted(dist.items(), key=lambda x:x[1][0], reverse=True)]))\n",
    "    \n",
    "    #Se devuelve los set de datos divididas en train y test. Esto tanto para las \n",
    "    #imagenes como para los labels.\n",
    "    return X_train, X_test, y_train, y_test\n",
    "\n",
    "#Uso de funciones de lectura para dividir el set de imagnes en test y train\n",
    "X_train, X_test, y_train, y_test = get_dataset(save=True)"
   ]
  },
  {
   "cell_type": "markdown",
   "metadata": {
    "colab_type": "text",
    "id": "KN0eB4Wpyre4"
   },
   "source": [
    "## Creacion de redes neuronales (CNN)"
   ]
  },
  {
   "cell_type": "code",
   "execution_count": null,
   "metadata": {
    "colab": {},
    "colab_type": "code",
    "id": "LwDtYNixycBj"
   },
   "outputs": [],
   "source": [
    "#Se tiene una red neuronal convolucional de cuatro capas convolucionales\n",
    "def create_model_four_conv(input_shape):\n",
    "    \"\"\"\n",
    "    CNN Keras model with 4 convolutions.\n",
    "    :param input_shape: input shape, generally X_train.shape[1:]\n",
    "    :return: Keras model, RMS prop optimizer\n",
    "    \"\"\"\n",
    "\n",
    "    #Se crea primeramente un modelo \"Sequential\", este es el tipo de red neuronal\n",
    "    #existen otros tipos como las recursivas y las recurrentes.\n",
    "\n",
    "    model = Sequential()\n",
    "    \n",
    "    #Se usa mucho las capas Conv2D, por lo que se explicara solo una vez. Estas \n",
    "    #tienen el formato por defecto:\n",
    "    \n",
    "    #tf.keras.layers.Conv2D(\n",
    "    #    filters, kernel_size, strides=(1, 1), padding='valid', data_format=None,\n",
    "    #    dilation_rate=(1, 1), activation=None, use_bias=True,\n",
    "    #    kernel_initializer='glorot_uniform', bias_initializer='zeros',\n",
    "    #    kernel_regularizer=None, bias_regularizer=None, activity_regularizer=None,\n",
    "    #    kernel_constraint=None, bias_constraint=None, **kwargs)\n",
    "    #\n",
    "    #Donde:\n",
    "    #\"filters\" se refiere a la cantidad de filtros que se tienen en esa capa, \n",
    "    #por ejemplo en la primera capa se tiene 32 filtros.\n",
    "    #Los filtros son los que cambuan durante el entrenamiento.\n",
    "    \n",
    "    #\"strides\" es siempre una tupla. Se refiere a las dimenciones dadas para \n",
    "    #cada filtro, por defecto esta variable tiene como valor la tupla (1,1). \n",
    "    #Por ejemplo, en la primera capa se usa una dimensión para los filtros (3,3)\n",
    "    \n",
    "    #\"padding\" es una bandera que puede ser \"valid\" (opcion por defecto) \n",
    "    #o \"same\" (case-insensitive). La opción valid tiene la posibilidad de perder\n",
    "    #informacion de entrada en especial de las esquinas. Por otra parte same\n",
    "    #aplica rellenos en las esquinas de modo que se usen todos los pixeles de entrada\n",
    "\n",
    "    #\"input_shape\" se usa solo en la capa (layer) de entrada\n",
    "\n",
    "    #¿Que recibe de entrada y que obtiene de salida estas capas?\n",
    "    #La entrada debe ser un tensor de 4D con el formato:\n",
    "    #   (batch_size, rows, cols, channels), si data_format='channels_last' esta \n",
    "    #     es la opcion por defecto de \"data_format\"\n",
    "    #\n",
    "    #   (batch_size, channels, rows, cols), si data_format='channels_first'\n",
    "    #\n",
    "    #La salida es otro tensor de 4D con el formato:\n",
    "    #   (batch_size, new_rows, new_cols, filters), si data_format='channels_last' \n",
    "    #     esta es la opcion por defecto de \"data_format\"\n",
    "    #\n",
    "    #   (batch_size, filters, new_rows, new_cols), si data_format='channels_first' \n",
    "    #\n",
    "    #rows and cols pueden variar dependiendo de la bandera \"padding\", con \"same\"\n",
    "    #se tendrían la misma candtidad de rows y cols de salida que de entrada.\n",
    "\n",
    "    #Primera capa convolucional\n",
    "    model.add(Conv2D(32, (3, 3), padding='same', input_shape=input_shape))\n",
    "\n",
    "    #Se agrega una funcion de activación, se puede agregar directamente en la capa\n",
    "    #convolucional pero esto haría que se pusiera la activación en la entrada, \n",
    "    #se decide poner la activación en la salida.\n",
    "    #La función de activación que se usa es la \"relu\" pero existen otras funciones\n",
    "    #de activación, estas se pueden encontrar aqui:\n",
    "    #https://www.tensorflow.org/api_docs/python/tf/keras/activations \n",
    "    #Relu hace que los valores con un valor menor a 1 se vuelvan 0\n",
    "    model.add(Activation('relu'))\n",
    "\n",
    "    #Como resultado de la primera capa convolucional se tiene 32 capas de profundidad\n",
    "    #y cada una de estas capas poseen las mismas dimensiones que la imagen de entrada\n",
    "    #en caso de mantener la configuracion por defecto se tiene 64x64x32, se puede \n",
    "    #ver como un cubo con tres dimensiones: largo, ancho y profundidad \n",
    "\n",
    "    #Segunda capa convolucional, con 32 filtros\n",
    "    #Esta segunda capa sigue siendo convolucional pero notese que no posee el \n",
    "    #padding, como resultado se pierde las últimas filas y columnas (los bordes)\n",
    "    #por lo que para este caso el cubo seria de dimenciones 62x62x32, ya que \n",
    "    #aún se tienen los 32 filtros. La función de activación sigue siendo \"relu\".\n",
    "    model.add(Conv2D(32, (3, 3)))\n",
    "    model.add(Activation('relu'))\n",
    "    \n",
    "    #Una capa Maxpolling2D reduce la cantidad de col y rows, en este caso\n",
    "    #se reduce de una matriz 2x2 a un único escalar, como consecuencia se tiene\n",
    "    #como resultado un cubo 31x31x32.\n",
    "    #Los layers de pool lo que hacen es reducir la cantidad de filas y columnas\n",
    "    #de entrada, esto puede hacerse por promedio, minimo, maximo o una función\n",
    "    #en este caso MaxPooling lo que hace es usar el valor máximo de la matriz que\n",
    "    #está viendo. (de la matriz 2x2 agarra el valor máximo y ese es el resultado)\n",
    "    model.add(MaxPooling2D(pool_size=(2, 2)))\n",
    "\n",
    "    #Las capas dropout se usa para evitar el overfiting, estas solo se activan\n",
    "    #durante el entrenamiento, y su función es hacer cero entradas de manera aleatoria\n",
    "    #con un taza de ocurrencia seleccionada por el usuario (en este caso es de 25%)\n",
    "    #las que no son colocadas en 0 se multiplican por 1/(1-rate)\n",
    "    model.add(Dropout(0.25))\n",
    "\n",
    "    #Tercera capa convolucional, con 64 filtros\n",
    "    model.add(Conv2D(64, (3, 3), padding='same'))\n",
    "    model.add(Activation('relu'))\n",
    "    \n",
    "    #Cuarta capa convolucional, con 64 filtros\n",
    "    model.add(Conv2D(64, (3, 3)))\n",
    "    model.add(Activation('relu'))\n",
    "\n",
    "    model.add(MaxPooling2D(pool_size=(2, 2)))\n",
    "    model.add(Dropout(0.25))\n",
    "\n",
    "    #La capa \"flatten\" lo que hace es pasar de las capas convolucionales y 3D a \n",
    "    #capas en una dimensión. Un único vector horizontal.\n",
    "    model.add(Flatten())\n",
    "    \n",
    "    #Se reduce la cantidad de neuronas, en este casi particular se pasa de la cantidad\n",
    "    #dada por Flatten y se pasa a 512 nueronas, se recomienda siempre usar 2^n valores\n",
    "    #Esta capa se le conoce como fully connected layer\n",
    "    model.add(Dense(512))\n",
    "    model.add(Activation('relu'))\n",
    "    model.add(Dropout(0.5))\n",
    "    \n",
    "    #Finalmente se reduce a la cantidad de neuronas equivalentes a la cantidad de clases\n",
    "    #que se desean, en nuestro caso, la cantidad de personajes que estamos clasificando\n",
    "    model.add(Dense(num_classes))\n",
    "    #\"softmax\" convierte el valor en probabilidad de 0 a 1.\n",
    "    model.add(Activation('softmax'))\n",
    "    \n",
    "    #Se define la funcion de optimización\n",
    "    opt = keras.optimizers.rmsprop(lr=0.0001, decay=1e-6)\n",
    "    return model, opt\n",
    "\n",
    "\n",
    "#Igual que el caso anterior pero se tiene una red de 6 capas convolucionales\n",
    "def create_model_six_conv(input_shape):\n",
    "    \"\"\"\n",
    "    CNN Keras model with 6 convolutions.\n",
    "    :param input_shape: input shape, generally X_train.shape[1:]\n",
    "    :return: Keras model, RMS prop optimizer\n",
    "    \"\"\"\n",
    "    model = Sequential()\n",
    "    model.add(Conv2D(32, (3, 3), padding='same', input_shape=input_shape))\n",
    "    model.add(Activation('relu'))\n",
    "    model.add(Conv2D(32, (3, 3)))\n",
    "    model.add(Activation('relu'))\n",
    "    model.add(MaxPooling2D(pool_size=(2, 2)))\n",
    "    model.add(Dropout(0.2))\n",
    "\n",
    "    model.add(Conv2D(64, (3, 3), padding='same'))\n",
    "    model.add(Activation('relu'))\n",
    "    model.add(Conv2D(64, (3, 3)))\n",
    "    model.add(Activation('relu'))\n",
    "    model.add(MaxPooling2D(pool_size=(2, 2)))\n",
    "    model.add(Dropout(0.2))\n",
    "\n",
    "    model.add(Conv2D(256, (3, 3), padding='same')) \n",
    "    model.add(Activation('relu'))\n",
    "    model.add(Conv2D(256, (3, 3)))\n",
    "    model.add(Activation('relu'))\n",
    "    model.add(MaxPooling2D(pool_size=(2, 2)))\n",
    "    model.add(Dropout(0.2))\n",
    "\n",
    "    model.add(Flatten())\n",
    "    model.add(Dense(1024))\n",
    "    model.add(Activation('relu'))\n",
    "    model.add(Dropout(0.5))\n",
    "    model.add(Dense(num_classes, activation='softmax'))\n",
    "    opt = SGD(lr=0.01, decay=1e-6, momentum=0.9, nesterov=True)\n",
    "    return model, opt\n",
    "\n",
    "\n",
    "#Igual que el caso anterior pero se tiene una red de 8 capas convolucionales\n",
    "def create_model_eight_conv(input_shape):\n",
    "    \"\"\"\n",
    "    CNN Keras model with 8 convolutions.\n",
    "    :param input_shape: input shape, generally X_train.shape[1:]\n",
    "    :return: Keras model, RMS prop optimizer\n",
    "    \"\"\"\n",
    "    model = Sequential()\n",
    "    model.add(Conv2D(32, (3, 3), padding='same', input_shape=input_shape))\n",
    "    model.add(Activation('relu'))\n",
    "    model.add(Conv2D(32, (3, 3)))\n",
    "    model.add(Activation('relu'))\n",
    "    model.add(MaxPooling2D(pool_size=(2, 2)))\n",
    "    model.add(Dropout(0.25))\n",
    "\n",
    "    model.add(Conv2D(64, (3, 3), padding='same'))\n",
    "    model.add(Activation('relu'))\n",
    "    model.add(Conv2D(64, (3, 3)))\n",
    "    model.add(Activation('relu'))\n",
    "    model.add(MaxPooling2D(pool_size=(2, 2)))\n",
    "    model.add(Dropout(0.25))\n",
    "\n",
    "    model.add(Conv2D(256, (3, 3), padding='same')) \n",
    "    model.add(Activation('relu'))\n",
    "    model.add(Conv2D(256, (3, 3)))\n",
    "    model.add(Activation('relu'))\n",
    "    model.add(MaxPooling2D(pool_size=(2, 2)))\n",
    "    model.add(Dropout(0.25))\n",
    "\n",
    "    model.add(Conv2D(512, (3, 3), padding='same')) \n",
    "    model.add(Activation('relu'))\n",
    "    model.add(Conv2D(512, (3, 3)))\n",
    "    model.add(Activation('relu'))\n",
    "    model.add(MaxPooling2D(pool_size=(2, 2)))\n",
    "    model.add(Dropout(0.25))\n",
    "\n",
    "    model.add(Flatten())\n",
    "    model.add(Dense(2048))\n",
    "    model.add(Activation('relu'))\n",
    "    model.add(Dropout(0.5))\n",
    "    model.add(Dense(num_classes, activation='softmax'))\n",
    "    opt = keras.optimizers.rmsprop(lr=0.0001, decay=1e-6)\n",
    "\n",
    "    #opt = SGD(lr=0.01, decay=1e-6, momentum=0.9, nesterov=True)\n",
    "    return model, opt"
   ]
  },
  {
   "cell_type": "markdown",
   "metadata": {
    "colab_type": "text",
    "id": "aABJClKBy2Zv"
   },
   "source": [
    "## Entrenamiento y Puebas con la red neuronal"
   ]
  },
  {
   "cell_type": "code",
   "execution_count": null,
   "metadata": {
    "colab": {},
    "colab_type": "code",
    "id": "0ZoCIjJAC0CV"
   },
   "outputs": [],
   "source": [
    "def load_model_from_checkpoint(weights_path, six_conv=False, pic_size=64):\n",
    "    input_shape=(pic_size,pic_size,3)\n",
    "    if six_conv:\n",
    "        model, opt = create_model_six_conv(input_shape)\n",
    "    else:\n",
    "        model, opt = create_model_four_conv(input_shape)\n",
    "    model.load_weights(weights_path)\n",
    "    model.compile(loss='categorical_crossentropy',\n",
    "              optimizer=opt,\n",
    "              metrics=['accuracy'])\n",
    "    return model\n",
    "\n",
    "#Función para modificar el learning rate\n",
    "def lr_schedule(epoch):\n",
    "    lr = 0.01\n",
    "    return lr*(0.7**int(epoch/10))\n",
    "\n",
    "#Función de entrenamiento\n",
    "def training(model, X_train, X_test, y_train, y_test, data_augmentation=True, epochs=400, batch_size=32):\n",
    "    \"\"\"\n",
    "    Training.\n",
    "    :param model: Keras sequential model\n",
    "    :param data_augmentation: boolean for data_augmentation (default:True)\n",
    "    :param callback: boolean for saving model checkpoints and get the best saved model\n",
    "    :param six_conv: boolean for using the 6 convs model (default:False, so 4 convs)\n",
    "    :return: model and epochs history (acc, loss, val_acc, val_loss for every epoch)\n",
    "    \"\"\"\n",
    "    if data_augmentation:\n",
    "        datagen = ImageDataGenerator(\n",
    "            featurewise_center=False,  # set input mean to 0 over the dataset\n",
    "            samplewise_center=False,  # set each sample mean to 0\n",
    "            featurewise_std_normalization=False,  # divide inputs by std of the dataset\n",
    "            samplewise_std_normalization=False,  # divide each input by its std\n",
    "            zca_whitening=False,  # apply ZCA whitening\n",
    "            rotation_range=10,  # randomly rotate images in the range (degrees, 0 to 180)\n",
    "            width_shift_range=0.1,  # randomly shift images horizontally (fraction of total width)\n",
    "            height_shift_range=0.1,  # randomly shift images vertically (fraction of total height)\n",
    "            horizontal_flip=True,  # randomly flip images\n",
    "            vertical_flip=False)  # randomly flip images\n",
    "        \n",
    "        # Compute quantities required for feature-wise normalization\n",
    "        # (std, mean, and principal components if ZCA whitening is applied).\n",
    "        datagen.fit(X_train)\n",
    "        \n",
    "        #Las funciones callback son funciones que se ejecutan periodicamente si \n",
    "        #se cumplen ciertas condiciones, en este caso se desea hacer un checkpoint\n",
    "        #este tiene el siguiente formato:\n",
    "        # tf.keras.callbacks.ModelCheckpoint(filepath, monitor='val_loss', \n",
    "        #                                     verbose=0, save_best_only=False,\n",
    "        #                                     save_weights_only=False, mode='auto',\n",
    "        #                                     save_freq='epoch', **kwargs)\n",
    "\n",
    "        #Se define el nombre que tendran los pesos guardados automaticamente\n",
    "        filepath='best_weights.hdf5'\n",
    "\n",
    "        #En algunas versiones de tensorflow val_accuracy se cambia por val_acc,\n",
    "        #esta es la variable que define si se va a guardar o no los pesos, en caso\n",
    "        #de que el acc suba o no. Este acc es del set de validación.\n",
    "        checkpoint = ModelCheckpoint(filepath, monitor='val_accuracy', verbose=0, save_best_only=True, save_weights_only=True, mode='max')\n",
    "        \n",
    "        #Además del checkpoint se agrega otra funcion en callback para que se vaya\n",
    "        #ejecutando el entrenamiento, esta es la funcion lr_schedule, que va\n",
    "        #modificando el learning rate.\n",
    "        #\n",
    "        #\"LearningRateScheduler\" es una función de keras para modificar el learning rate\n",
    "        #esta función debe recivir como entrada otra función, a la que se le ingresa la\n",
    "        #epoca en la que se encuentra el entrenamiento. La documentación esta en:\n",
    "        #https://www.tensorflow.org/api_docs/python/tf/keras/callbacks/LearningRateScheduler?hl=en\n",
    "\n",
    "        callbacks_list = [LearningRateScheduler(lr_schedule) ,checkpoint]\n",
    "        \n",
    "        #fit(x=None,       y=None,  batch_size=None, epochs=1,    verbose=1,    callbacks=None,\n",
    "        #   validation_split=0.0 , validation_data=None      , shuffle=True, class_weight=None,\n",
    "        #   sample_weight=None   , initial_epoch=0           , steps_per_epoch=None,\n",
    "        #   validation_steps=None, validation_batch_size=None, validation_freq=1,\n",
    "        #   max_queue_size=10    , workers=1                 , use_multiprocessing=False)\n",
    "\n",
    "        #Inicio de entrenamiento\n",
    "        history = model.fit(datagen.flow(X_train, y_train,\n",
    "                            batch_size=batch_size),\n",
    "                            steps_per_epoch=X_train.shape[0] / batch_size,\n",
    "                            epochs=epochs,\n",
    "                            validation_data=(X_test, y_test),\n",
    "                            callbacks= callbacks_list,\n",
    "                            shuffle=True)\n",
    "    else:\n",
    "        #Difinicion de los callbacks, son los mismos que se usan arriba\n",
    "        filepath='best_weights.hdf5'\n",
    "        checkpoint = ModelCheckpoint(filepath, monitor='val_accuracy', verbose=0, save_best_only=True, save_weights_only=True, mode='max')\n",
    "        callbacks_list = [LearningRateScheduler(lr_schedule) ,checkpoint]\n",
    "        \n",
    "        #Inicio de entrenamiento\n",
    "        history = model.fit(X_train, y_train,\n",
    "                            batch_size=batch_size,\n",
    "                            steps_per_epoch=X_train.shape[0] // batch_size,\n",
    "                            epochs=epochs,\n",
    "                            validation_data=(X_test, y_test),\n",
    "                            callbacks= callbacks_list,\n",
    "                            shuffle=True)\n",
    "    return model, history\n"
   ]
  },
  {
   "cell_type": "code",
   "execution_count": null,
   "metadata": {
    "colab": {
     "base_uri": "https://localhost:8080/",
     "height": 1000
    },
    "colab_type": "code",
    "id": "88C7b-mIlSq2",
    "outputId": "0ab5f879-6813-4fe9-bb3c-4559a867ea7e"
   },
   "outputs": [
    {
     "name": "stdout",
     "output_type": "stream",
     "text": [
      "Epoch 1/100\n",
      "451/450 [==============================] - 19s 41ms/step - loss: 2.6879 - accuracy: 0.1527 - val_loss: 2.2067 - val_accuracy: 0.3181\n",
      "Epoch 2/100\n",
      "451/450 [==============================] - 18s 41ms/step - loss: 2.0628 - accuracy: 0.3739 - val_loss: 1.6494 - val_accuracy: 0.4988\n",
      "Epoch 3/100\n",
      "451/450 [==============================] - 18s 41ms/step - loss: 1.6001 - accuracy: 0.5176 - val_loss: 1.1862 - val_accuracy: 0.6532\n",
      "Epoch 4/100\n",
      "451/450 [==============================] - 18s 40ms/step - loss: 1.2495 - accuracy: 0.6258 - val_loss: 0.8542 - val_accuracy: 0.7412\n",
      "Epoch 5/100\n",
      "451/450 [==============================] - 19s 41ms/step - loss: 1.0042 - accuracy: 0.6919 - val_loss: 0.7065 - val_accuracy: 0.7918\n",
      "Epoch 6/100\n",
      "451/450 [==============================] - 18s 40ms/step - loss: 0.8182 - accuracy: 0.7515 - val_loss: 0.5997 - val_accuracy: 0.8193\n",
      "Epoch 7/100\n",
      "451/450 [==============================] - 18s 41ms/step - loss: 0.7057 - accuracy: 0.7864 - val_loss: 0.5102 - val_accuracy: 0.8535\n",
      "Epoch 8/100\n",
      "451/450 [==============================] - 18s 40ms/step - loss: 0.6158 - accuracy: 0.8122 - val_loss: 0.4930 - val_accuracy: 0.8574\n",
      "Epoch 9/100\n",
      "451/450 [==============================] - 18s 40ms/step - loss: 0.5675 - accuracy: 0.8280 - val_loss: 0.4314 - val_accuracy: 0.8716\n",
      "Epoch 10/100\n",
      "451/450 [==============================] - 18s 39ms/step - loss: 0.4922 - accuracy: 0.8502 - val_loss: 0.4094 - val_accuracy: 0.8845\n",
      "Epoch 11/100\n",
      "451/450 [==============================] - 18s 40ms/step - loss: 0.4006 - accuracy: 0.8758 - val_loss: 0.2881 - val_accuracy: 0.9159\n",
      "Epoch 12/100\n",
      "451/450 [==============================] - 18s 40ms/step - loss: 0.3485 - accuracy: 0.8917 - val_loss: 0.3157 - val_accuracy: 0.9124\n",
      "Epoch 13/100\n",
      "451/450 [==============================] - 18s 40ms/step - loss: 0.3263 - accuracy: 0.9025 - val_loss: 0.2704 - val_accuracy: 0.9301\n",
      "Epoch 14/100\n",
      "451/450 [==============================] - 19s 41ms/step - loss: 0.3036 - accuracy: 0.9092 - val_loss: 0.2711 - val_accuracy: 0.9258\n",
      "Epoch 15/100\n",
      "451/450 [==============================] - 19s 41ms/step - loss: 0.2777 - accuracy: 0.9143 - val_loss: 0.2233 - val_accuracy: 0.9430\n",
      "Epoch 16/100\n",
      "451/450 [==============================] - 18s 40ms/step - loss: 0.2802 - accuracy: 0.9147 - val_loss: 0.3263 - val_accuracy: 0.9140\n",
      "Epoch 17/100\n",
      "451/450 [==============================] - 18s 40ms/step - loss: 0.2684 - accuracy: 0.9179 - val_loss: 0.2298 - val_accuracy: 0.9427\n",
      "Epoch 18/100\n",
      "451/450 [==============================] - 19s 41ms/step - loss: 0.2443 - accuracy: 0.9260 - val_loss: 0.2257 - val_accuracy: 0.9395\n",
      "Epoch 19/100\n",
      "451/450 [==============================] - 18s 41ms/step - loss: 0.2427 - accuracy: 0.9264 - val_loss: 0.1969 - val_accuracy: 0.9446\n",
      "Epoch 20/100\n",
      "451/450 [==============================] - 18s 40ms/step - loss: 0.2266 - accuracy: 0.9323 - val_loss: 0.1974 - val_accuracy: 0.9470\n",
      "Epoch 21/100\n",
      "451/450 [==============================] - 18s 41ms/step - loss: 0.1771 - accuracy: 0.9474 - val_loss: 0.1874 - val_accuracy: 0.9556\n",
      "Epoch 22/100\n",
      "451/450 [==============================] - 18s 41ms/step - loss: 0.1592 - accuracy: 0.9516 - val_loss: 0.1803 - val_accuracy: 0.9592\n",
      "Epoch 23/100\n",
      "451/450 [==============================] - 19s 41ms/step - loss: 0.1483 - accuracy: 0.9568 - val_loss: 0.1836 - val_accuracy: 0.9580\n",
      "Epoch 24/100\n",
      "451/450 [==============================] - 19s 42ms/step - loss: 0.1384 - accuracy: 0.9561 - val_loss: 0.1706 - val_accuracy: 0.9588\n",
      "Epoch 25/100\n",
      "451/450 [==============================] - 18s 41ms/step - loss: 0.1356 - accuracy: 0.9590 - val_loss: 0.1566 - val_accuracy: 0.9639\n",
      "Epoch 26/100\n",
      "451/450 [==============================] - 18s 41ms/step - loss: 0.1277 - accuracy: 0.9610 - val_loss: 0.1485 - val_accuracy: 0.9647\n",
      "Epoch 27/100\n",
      "451/450 [==============================] - 19s 42ms/step - loss: 0.1331 - accuracy: 0.9581 - val_loss: 0.1861 - val_accuracy: 0.9544\n",
      "Epoch 28/100\n",
      "451/450 [==============================] - 18s 41ms/step - loss: 0.1222 - accuracy: 0.9630 - val_loss: 0.1572 - val_accuracy: 0.9631\n",
      "Epoch 29/100\n",
      "451/450 [==============================] - 18s 41ms/step - loss: 0.1254 - accuracy: 0.9606 - val_loss: 0.1628 - val_accuracy: 0.9658\n",
      "Epoch 30/100\n",
      "451/450 [==============================] - 18s 40ms/step - loss: 0.1219 - accuracy: 0.9609 - val_loss: 0.1548 - val_accuracy: 0.9674\n",
      "Epoch 31/100\n",
      "451/450 [==============================] - 18s 41ms/step - loss: 0.1007 - accuracy: 0.9698 - val_loss: 0.1371 - val_accuracy: 0.9674\n",
      "Epoch 32/100\n",
      "451/450 [==============================] - 18s 41ms/step - loss: 0.0782 - accuracy: 0.9754 - val_loss: 0.1804 - val_accuracy: 0.9615\n",
      "Epoch 33/100\n",
      "451/450 [==============================] - 19s 41ms/step - loss: 0.0858 - accuracy: 0.9741 - val_loss: 0.1625 - val_accuracy: 0.9678\n",
      "Epoch 34/100\n",
      "451/450 [==============================] - 19s 42ms/step - loss: 0.0770 - accuracy: 0.9762 - val_loss: 0.1651 - val_accuracy: 0.9627\n",
      "Epoch 35/100\n",
      "451/450 [==============================] - 18s 40ms/step - loss: 0.0800 - accuracy: 0.9744 - val_loss: 0.1544 - val_accuracy: 0.9678\n",
      "Epoch 36/100\n",
      "451/450 [==============================] - 19s 41ms/step - loss: 0.0752 - accuracy: 0.9757 - val_loss: 0.1374 - val_accuracy: 0.9717\n",
      "Epoch 37/100\n",
      "451/450 [==============================] - 18s 41ms/step - loss: 0.0669 - accuracy: 0.9785 - val_loss: 0.1635 - val_accuracy: 0.9682\n",
      "Epoch 38/100\n",
      "451/450 [==============================] - 19s 41ms/step - loss: 0.0706 - accuracy: 0.9792 - val_loss: 0.1415 - val_accuracy: 0.9678\n",
      "Epoch 39/100\n",
      "451/450 [==============================] - 18s 41ms/step - loss: 0.0690 - accuracy: 0.9783 - val_loss: 0.1516 - val_accuracy: 0.9690\n",
      "Epoch 40/100\n",
      "451/450 [==============================] - 19s 42ms/step - loss: 0.0601 - accuracy: 0.9808 - val_loss: 0.1576 - val_accuracy: 0.9686\n",
      "Epoch 41/100\n",
      "451/450 [==============================] - 19s 42ms/step - loss: 0.0538 - accuracy: 0.9825 - val_loss: 0.1517 - val_accuracy: 0.9713\n",
      "Epoch 42/100\n",
      "451/450 [==============================] - 18s 40ms/step - loss: 0.0485 - accuracy: 0.9837 - val_loss: 0.1694 - val_accuracy: 0.9709\n",
      "Epoch 43/100\n",
      "451/450 [==============================] - 19s 41ms/step - loss: 0.0539 - accuracy: 0.9837 - val_loss: 0.1531 - val_accuracy: 0.9705\n",
      "Epoch 44/100\n",
      "451/450 [==============================] - 18s 41ms/step - loss: 0.0525 - accuracy: 0.9843 - val_loss: 0.1521 - val_accuracy: 0.9713\n",
      "Epoch 45/100\n",
      "451/450 [==============================] - 18s 41ms/step - loss: 0.0525 - accuracy: 0.9834 - val_loss: 0.1589 - val_accuracy: 0.9721\n",
      "Epoch 46/100\n",
      "451/450 [==============================] - 18s 40ms/step - loss: 0.0502 - accuracy: 0.9847 - val_loss: 0.1801 - val_accuracy: 0.9670\n",
      "Epoch 47/100\n",
      "451/450 [==============================] - 18s 41ms/step - loss: 0.0488 - accuracy: 0.9852 - val_loss: 0.1573 - val_accuracy: 0.9698\n",
      "Epoch 48/100\n",
      "451/450 [==============================] - 18s 40ms/step - loss: 0.0452 - accuracy: 0.9868 - val_loss: 0.1716 - val_accuracy: 0.9705\n",
      "Epoch 49/100\n",
      "451/450 [==============================] - 19s 41ms/step - loss: 0.0458 - accuracy: 0.9860 - val_loss: 0.1578 - val_accuracy: 0.9709\n",
      "Epoch 50/100\n",
      "451/450 [==============================] - 18s 40ms/step - loss: 0.0424 - accuracy: 0.9864 - val_loss: 0.1657 - val_accuracy: 0.9725\n",
      "Epoch 51/100\n",
      "451/450 [==============================] - 18s 40ms/step - loss: 0.0362 - accuracy: 0.9885 - val_loss: 0.1548 - val_accuracy: 0.9756\n",
      "Epoch 52/100\n",
      "451/450 [==============================] - 18s 40ms/step - loss: 0.0309 - accuracy: 0.9910 - val_loss: 0.1633 - val_accuracy: 0.9725\n",
      "Epoch 53/100\n",
      "451/450 [==============================] - 18s 40ms/step - loss: 0.0343 - accuracy: 0.9894 - val_loss: 0.1562 - val_accuracy: 0.9725\n",
      "Epoch 54/100\n",
      "451/450 [==============================] - 18s 41ms/step - loss: 0.0336 - accuracy: 0.9893 - val_loss: 0.1620 - val_accuracy: 0.9725\n",
      "Epoch 55/100\n",
      "451/450 [==============================] - 19s 41ms/step - loss: 0.0320 - accuracy: 0.9901 - val_loss: 0.1580 - val_accuracy: 0.9733\n",
      "Epoch 56/100\n",
      "451/450 [==============================] - 19s 43ms/step - loss: 0.0320 - accuracy: 0.9902 - val_loss: 0.1563 - val_accuracy: 0.9733\n",
      "Epoch 57/100\n",
      "451/450 [==============================] - 19s 42ms/step - loss: 0.0285 - accuracy: 0.9912 - val_loss: 0.1686 - val_accuracy: 0.9713\n",
      "Epoch 58/100\n",
      "451/450 [==============================] - 19s 42ms/step - loss: 0.0339 - accuracy: 0.9877 - val_loss: 0.1679 - val_accuracy: 0.9709\n",
      "Epoch 59/100\n",
      "451/450 [==============================] - 18s 40ms/step - loss: 0.0335 - accuracy: 0.9890 - val_loss: 0.1589 - val_accuracy: 0.9729\n",
      "Epoch 60/100\n",
      "451/450 [==============================] - 18s 41ms/step - loss: 0.0321 - accuracy: 0.9911 - val_loss: 0.1603 - val_accuracy: 0.9729\n",
      "Epoch 61/100\n",
      "451/450 [==============================] - 18s 40ms/step - loss: 0.0261 - accuracy: 0.9918 - val_loss: 0.1571 - val_accuracy: 0.9721\n",
      "Epoch 62/100\n",
      "451/450 [==============================] - 18s 40ms/step - loss: 0.0275 - accuracy: 0.9918 - val_loss: 0.1541 - val_accuracy: 0.9733\n",
      "Epoch 63/100\n",
      "451/450 [==============================] - 18s 40ms/step - loss: 0.0287 - accuracy: 0.9918 - val_loss: 0.1602 - val_accuracy: 0.9737\n",
      "Epoch 64/100\n",
      "451/450 [==============================] - 18s 40ms/step - loss: 0.0242 - accuracy: 0.9924 - val_loss: 0.1651 - val_accuracy: 0.9690\n",
      "Epoch 65/100\n",
      "451/450 [==============================] - 18s 40ms/step - loss: 0.0248 - accuracy: 0.9924 - val_loss: 0.1592 - val_accuracy: 0.9717\n",
      "Epoch 66/100\n",
      "451/450 [==============================] - 18s 40ms/step - loss: 0.0235 - accuracy: 0.9927 - val_loss: 0.1701 - val_accuracy: 0.9701\n",
      "Epoch 67/100\n",
      "451/450 [==============================] - 18s 40ms/step - loss: 0.0260 - accuracy: 0.9914 - val_loss: 0.1579 - val_accuracy: 0.9721\n",
      "Epoch 68/100\n",
      "451/450 [==============================] - 18s 41ms/step - loss: 0.0213 - accuracy: 0.9931 - val_loss: 0.1618 - val_accuracy: 0.9737\n",
      "Epoch 69/100\n",
      "451/450 [==============================] - 18s 40ms/step - loss: 0.0256 - accuracy: 0.9922 - val_loss: 0.1693 - val_accuracy: 0.9725\n",
      "Epoch 70/100\n",
      "451/450 [==============================] - 18s 41ms/step - loss: 0.0243 - accuracy: 0.9921 - val_loss: 0.1693 - val_accuracy: 0.9737\n",
      "Epoch 71/100\n",
      "451/450 [==============================] - 18s 40ms/step - loss: 0.0215 - accuracy: 0.9933 - val_loss: 0.1643 - val_accuracy: 0.9741\n",
      "Epoch 72/100\n",
      "451/450 [==============================] - 18s 40ms/step - loss: 0.0182 - accuracy: 0.9944 - val_loss: 0.1653 - val_accuracy: 0.9721\n",
      "Epoch 73/100\n",
      "451/450 [==============================] - 18s 40ms/step - loss: 0.0204 - accuracy: 0.9935 - val_loss: 0.1664 - val_accuracy: 0.9741\n",
      "Epoch 74/100\n",
      "451/450 [==============================] - 18s 40ms/step - loss: 0.0178 - accuracy: 0.9942 - val_loss: 0.1686 - val_accuracy: 0.9741\n",
      "Epoch 75/100\n",
      "451/450 [==============================] - 18s 41ms/step - loss: 0.0213 - accuracy: 0.9931 - val_loss: 0.1711 - val_accuracy: 0.9721\n",
      "Epoch 76/100\n",
      "451/450 [==============================] - 18s 40ms/step - loss: 0.0194 - accuracy: 0.9938 - val_loss: 0.1661 - val_accuracy: 0.9737\n",
      "Epoch 77/100\n",
      "451/450 [==============================] - 18s 40ms/step - loss: 0.0183 - accuracy: 0.9945 - val_loss: 0.1662 - val_accuracy: 0.9756\n",
      "Epoch 78/100\n",
      "451/450 [==============================] - 18s 39ms/step - loss: 0.0152 - accuracy: 0.9945 - val_loss: 0.1756 - val_accuracy: 0.9745\n",
      "Epoch 79/100\n",
      "451/450 [==============================] - 18s 40ms/step - loss: 0.0221 - accuracy: 0.9938 - val_loss: 0.1765 - val_accuracy: 0.9756\n",
      "Epoch 80/100\n",
      "451/450 [==============================] - 18s 40ms/step - loss: 0.0159 - accuracy: 0.9954 - val_loss: 0.1770 - val_accuracy: 0.9737\n",
      "Epoch 81/100\n",
      "451/450 [==============================] - 18s 39ms/step - loss: 0.0147 - accuracy: 0.9948 - val_loss: 0.1764 - val_accuracy: 0.9760\n",
      "Epoch 82/100\n",
      "451/450 [==============================] - 18s 40ms/step - loss: 0.0185 - accuracy: 0.9944 - val_loss: 0.1701 - val_accuracy: 0.9764\n",
      "Epoch 83/100\n",
      "451/450 [==============================] - 18s 40ms/step - loss: 0.0175 - accuracy: 0.9947 - val_loss: 0.1765 - val_accuracy: 0.9753\n",
      "Epoch 84/100\n",
      "451/450 [==============================] - 18s 40ms/step - loss: 0.0145 - accuracy: 0.9947 - val_loss: 0.1708 - val_accuracy: 0.9760\n",
      "Epoch 85/100\n",
      "451/450 [==============================] - 18s 39ms/step - loss: 0.0192 - accuracy: 0.9938 - val_loss: 0.1740 - val_accuracy: 0.9764\n",
      "Epoch 86/100\n",
      "451/450 [==============================] - 18s 40ms/step - loss: 0.0163 - accuracy: 0.9951 - val_loss: 0.1699 - val_accuracy: 0.9749\n",
      "Epoch 87/100\n",
      "451/450 [==============================] - 18s 40ms/step - loss: 0.0155 - accuracy: 0.9953 - val_loss: 0.1697 - val_accuracy: 0.9749\n",
      "Epoch 88/100\n",
      "451/450 [==============================] - 18s 40ms/step - loss: 0.0173 - accuracy: 0.9951 - val_loss: 0.1702 - val_accuracy: 0.9749\n",
      "Epoch 89/100\n",
      "451/450 [==============================] - 18s 40ms/step - loss: 0.0163 - accuracy: 0.9947 - val_loss: 0.1666 - val_accuracy: 0.9737\n",
      "Epoch 90/100\n",
      "451/450 [==============================] - 18s 40ms/step - loss: 0.0164 - accuracy: 0.9950 - val_loss: 0.1698 - val_accuracy: 0.9756\n",
      "Epoch 91/100\n",
      "451/450 [==============================] - 18s 40ms/step - loss: 0.0163 - accuracy: 0.9949 - val_loss: 0.1700 - val_accuracy: 0.9745\n",
      "Epoch 92/100\n",
      "451/450 [==============================] - 18s 40ms/step - loss: 0.0142 - accuracy: 0.9951 - val_loss: 0.1723 - val_accuracy: 0.9756\n",
      "Epoch 93/100\n",
      "451/450 [==============================] - 18s 40ms/step - loss: 0.0152 - accuracy: 0.9945 - val_loss: 0.1714 - val_accuracy: 0.9753\n",
      "Epoch 94/100\n",
      "451/450 [==============================] - 18s 40ms/step - loss: 0.0163 - accuracy: 0.9954 - val_loss: 0.1683 - val_accuracy: 0.9768\n",
      "Epoch 95/100\n",
      "451/450 [==============================] - 18s 40ms/step - loss: 0.0175 - accuracy: 0.9947 - val_loss: 0.1720 - val_accuracy: 0.9753\n",
      "Epoch 96/100\n",
      "451/450 [==============================] - 18s 41ms/step - loss: 0.0132 - accuracy: 0.9957 - val_loss: 0.1698 - val_accuracy: 0.9760\n",
      "Epoch 97/100\n",
      "451/450 [==============================] - 18s 40ms/step - loss: 0.0151 - accuracy: 0.9950 - val_loss: 0.1722 - val_accuracy: 0.9753\n",
      "Epoch 98/100\n",
      "451/450 [==============================] - 18s 40ms/step - loss: 0.0150 - accuracy: 0.9951 - val_loss: 0.1711 - val_accuracy: 0.9745\n",
      "Epoch 99/100\n",
      "451/450 [==============================] - 18s 40ms/step - loss: 0.0137 - accuracy: 0.9957 - val_loss: 0.1717 - val_accuracy: 0.9745\n",
      "Epoch 100/100\n",
      "451/450 [==============================] - 18s 40ms/step - loss: 0.0163 - accuracy: 0.9946 - val_loss: 0.1730 - val_accuracy: 0.9753\n"
     ]
    }
   ],
   "source": [
    "## Training in the notebook\n",
    "epochs_num = 100\n",
    "model, opt = create_model_six_conv(X_train.shape[1:])\n",
    "model.compile(loss='categorical_crossentropy', optimizer=opt, metrics=['accuracy'])\n",
    "model, history = training(model, X_train, X_test, y_train, y_test, data_augmentation=True, epochs=epochs_num)"
   ]
  },
  {
   "cell_type": "code",
   "execution_count": null,
   "metadata": {
    "colab": {},
    "colab_type": "code",
    "id": "EU8mWUfRlUw-"
   },
   "outputs": [],
   "source": [
    "#Se guarda el modelo y el \"history\" que ayuda después para documentación\n",
    "pd.DataFrame.from_dict(history.history).to_csv('history.csv',index=False)\n",
    "model.save('New.h5')"
   ]
  },
  {
   "cell_type": "code",
   "execution_count": null,
   "metadata": {
    "colab": {
     "base_uri": "https://localhost:8080/",
     "height": 296
    },
    "colab_type": "code",
    "id": "UIEZ2MZtqzBk",
    "outputId": "c2243444-d293-40ec-8968-837f7ae81e62"
   },
   "outputs": [
    {
     "data": {
      "text/plain": [
       "<matplotlib.legend.Legend at 0x7faf9d525ac8>"
      ]
     },
     "execution_count": 42,
     "metadata": {
      "tags": []
     },
     "output_type": "execute_result"
    },
    {
     "data": {
      "image/png": "[encoded data removed]",
      "text/plain": [
       "<Figure size 1080x432 with 2 Axes>"
      ]
     },
     "metadata": {
      "needs_background": "light",
      "tags": []
     },
     "output_type": "display_data"
    }
   ],
   "source": [
    "#Lee el csv creado\n",
    "data = pd.read_csv(\"history.csv\")\n",
    "\n",
    "#Se imprime la mejora de la red por epoca\n",
    "epochs= range(epochs_num)\n",
    "f, ax = plt.subplots(ncols=2, figsize=(15,6))\n",
    "ax[0].plot(epochs, data['loss'], label='loss')\n",
    "ax[0].plot(epochs, data['val_loss'], label='val_loss')\n",
    "ax[0].set_xlabel('Epochs')\n",
    "ax[0].set_ylabel('Loss')\n",
    "ax[0].legend()\n",
    "ax[1].plot(epochs, data['accuracy'], label='accuracy')\n",
    "ax[1].plot(epochs, data['val_accuracy'], label='val_accuracy')\n",
    "ax[1].set_xlabel('Epochs')\n",
    "ax[1].set_ylabel('Accuracy')\n",
    "ax[1].legend()"
   ]
  },
  {
   "cell_type": "code",
   "execution_count": null,
   "metadata": {
    "colab": {
     "base_uri": "https://localhost:8080/",
     "height": 510
    },
    "colab_type": "code",
    "id": "QOmamEmAHmyA",
    "outputId": "c5061e0c-3fd9-4ee8-8afd-ca0081c8d60d"
   },
   "outputs": [
    {
     "name": "stdout",
     "output_type": "stream",
     "text": [
      "2546/2546 [==============================] - 1s 218us/step\n",
      "\n",
      "\n",
      "                          precision    recall  f1-score   support\n",
      "\n",
      "  abraham_grampa_simpson       0.97      0.98      0.98       127\n",
      "  apu_nahasapeemapetilon       0.99      1.00      0.99        84\n",
      "            bart_simpson       0.98      0.98      0.98       173\n",
      "charles_montgomery_burns       0.96      0.96      0.96       183\n",
      "            chief_wiggum       0.96      0.99      0.97       136\n",
      "          comic_book_guy       0.95      0.97      0.96        64\n",
      "          edna_krabappel       0.98      0.96      0.97        82\n",
      "           homer_simpson       0.94      0.94      0.94       184\n",
      "           kent_brockman       0.98      0.98      0.98        63\n",
      "        krusty_the_clown       0.99      0.99      0.99       173\n",
      "            lisa_simpson       0.98      0.98      0.98       174\n",
      "           marge_simpson       1.00      0.99      0.99       206\n",
      "     milhouse_van_houten       0.97      0.99      0.98       166\n",
      "             moe_szyslak       0.98      0.97      0.98       193\n",
      "            ned_flanders       0.99      0.99      0.99       165\n",
      "            nelson_muntz       0.92      0.91      0.91        64\n",
      "       principal_skinner       0.99      0.98      0.98       167\n",
      "            sideshow_bob       0.98      0.98      0.98       123\n",
      "          maggie_simpson       0.93      0.74      0.82        19\n",
      "\n",
      "                accuracy                           0.98      2546\n",
      "               macro avg       0.97      0.96      0.97      2546\n",
      "            weighted avg       0.98      0.98      0.98      2546\n",
      "\n"
     ]
    }
   ],
   "source": [
    "from sklearn.metrics import classification_report\n",
    "\n",
    "predictions_last_epoch = model.predict(X_test, batch_size=32, verbose=1)\n",
    "\n",
    "Pred_y = np.argmax(predictions_last_epoch, axis=1)\n",
    "True_y = np.argmax(y_test, axis=1)\n",
    "target_names = list(map_characters.values())\n",
    "\n",
    "\n",
    "report = classification_report(True_y, Pred_y, target_names=target_names)\n",
    "print('\\n')\n",
    "print(report)"
   ]
  },
  {
   "cell_type": "code",
   "execution_count": null,
   "metadata": {
    "colab": {
     "base_uri": "https://localhost:8080/",
     "height": 573
    },
    "colab_type": "code",
    "id": "b7rNBnLNO1Xc",
    "outputId": "cfaef194-e527-4ac0-b856-d4a565a71386"
   },
   "outputs": [
    {
     "data": {
      "image/png": "[encoded data removed]",
      "text/plain": [
       "<Figure size 576x576 with 2 Axes>"
      ]
     },
     "metadata": {
      "needs_background": "light",
      "tags": []
     },
     "output_type": "display_data"
    }
   ],
   "source": [
    "plt.figure(figsize=(8,8))\n",
    "cnf_matrix = sklearn.metrics.confusion_matrix(np.where(y_test > 0)[1], np.argmax(predictions_last_epoch, axis=1))\n",
    "classes = list(map_characters.values())\n",
    "plt.imshow(cnf_matrix, interpolation='nearest')\n",
    "plt.colorbar()\n",
    "tick_marks = np.arange(len(classes))\n",
    "_ = plt.xticks(tick_marks, classes, rotation=90)\n",
    "_ = plt.yticks(tick_marks, classes)"
   ]
  },
  {
   "cell_type": "code",
   "execution_count": null,
   "metadata": {
    "colab": {
     "base_uri": "https://localhost:8080/",
     "height": 51
    },
    "colab_type": "code",
    "id": "frfhX2R8q4SF",
    "outputId": "a24105b9-836c-4e1f-ed7e-06a930192f94"
   },
   "outputs": [
    {
     "name": "stdout",
     "output_type": "stream",
     "text": [
      "2546/2546 [==============================] - 1s 490us/step\n",
      "test loss, test acc: [0.19306286774686912, 0.9721131324768066]\n"
     ]
    }
   ],
   "source": [
    "#Se carga el mejor modelo y se imprime el loss y acc con el set de test\n",
    "#Crea un nuevo modelo y se le colocan los pesos guardados por el callback\n",
    "#Este proceso se puede hacer tambien con la funcion load_model_from_checkpoint\n",
    "\n",
    "input_shape=(64,64,3)\n",
    "Best_model, opt = create_model_six_conv(input_shape)\n",
    "Best_model.load_weights('best_weights.hdf5')\n",
    "Best_model.compile(loss='categorical_crossentropy',\n",
    "                  optimizer=opt,\n",
    "                  metrics=['accuracy'])\n",
    "\n",
    "results = Best_model.evaluate(X_test, y_test, batch_size=128)\n",
    "print('test loss, test acc:', results)"
   ]
  },
  {
   "cell_type": "code",
   "execution_count": null,
   "metadata": {
    "colab": {
     "base_uri": "https://localhost:8080/",
     "height": 51
    },
    "colab_type": "code",
    "id": "2vQ0Uovgx7JZ",
    "outputId": "607c9c5c-3f1f-4765-8b25-380cbecdf7a2"
   },
   "outputs": [
    {
     "name": "stdout",
     "output_type": "stream",
     "text": [
      "2546/2546 [==============================] - 1s 316us/step\n",
      "test loss, test acc: [0.19118716169180874, 0.9701492786407471]\n"
     ]
    }
   ],
   "source": [
    "#Se usa el modelo final y se imprime el loss y acc con el set de test\n",
    "#Esto para comparar los resultados del modelo final y el mejor modelo\n",
    "\n",
    "results = model.evaluate(X_test, y_test, batch_size=128)\n",
    "print('test loss, test acc:', results)"
   ]
  },
  {
   "cell_type": "code",
   "execution_count": null,
   "metadata": {
    "colab": {
     "base_uri": "https://localhost:8080/",
     "height": 935
    },
    "colab_type": "code",
    "id": "AxsPLncjNLVJ",
    "outputId": "aa586c59-3de0-4f5f-bc72-19f938d00233"
   },
   "outputs": [
    {
     "name": "stdout",
     "output_type": "stream",
     "text": [
      "Model: \"sequential_3\"\n",
      "_________________________________________________________________\n",
      "Layer (type)                 Output Shape              Param #   \n",
      "=================================================================\n",
      "conv2d_13 (Conv2D)           (None, 64, 64, 32)        896       \n",
      "_________________________________________________________________\n",
      "activation_15 (Activation)   (None, 64, 64, 32)        0         \n",
      "_________________________________________________________________\n",
      "conv2d_14 (Conv2D)           (None, 62, 62, 32)        9248      \n",
      "_________________________________________________________________\n",
      "activation_16 (Activation)   (None, 62, 62, 32)        0         \n",
      "_________________________________________________________________\n",
      "max_pooling2d_7 (MaxPooling2 (None, 31, 31, 32)        0         \n",
      "_________________________________________________________________\n",
      "dropout_9 (Dropout)          (None, 31, 31, 32)        0         \n",
      "_________________________________________________________________\n",
      "conv2d_15 (Conv2D)           (None, 31, 31, 64)        18496     \n",
      "_________________________________________________________________\n",
      "activation_17 (Activation)   (None, 31, 31, 64)        0         \n",
      "_________________________________________________________________\n",
      "conv2d_16 (Conv2D)           (None, 29, 29, 64)        36928     \n",
      "_________________________________________________________________\n",
      "activation_18 (Activation)   (None, 29, 29, 64)        0         \n",
      "_________________________________________________________________\n",
      "max_pooling2d_8 (MaxPooling2 (None, 14, 14, 64)        0         \n",
      "_________________________________________________________________\n",
      "dropout_10 (Dropout)         (None, 14, 14, 64)        0         \n",
      "_________________________________________________________________\n",
      "conv2d_17 (Conv2D)           (None, 14, 14, 256)       147712    \n",
      "_________________________________________________________________\n",
      "activation_19 (Activation)   (None, 14, 14, 256)       0         \n",
      "_________________________________________________________________\n",
      "conv2d_18 (Conv2D)           (None, 12, 12, 256)       590080    \n",
      "_________________________________________________________________\n",
      "activation_20 (Activation)   (None, 12, 12, 256)       0         \n",
      "_________________________________________________________________\n",
      "max_pooling2d_9 (MaxPooling2 (None, 6, 6, 256)         0         \n",
      "_________________________________________________________________\n",
      "dropout_11 (Dropout)         (None, 6, 6, 256)         0         \n",
      "_________________________________________________________________\n",
      "flatten_3 (Flatten)          (None, 9216)              0         \n",
      "_________________________________________________________________\n",
      "dense_5 (Dense)              (None, 1024)              9438208   \n",
      "_________________________________________________________________\n",
      "activation_21 (Activation)   (None, 1024)              0         \n",
      "_________________________________________________________________\n",
      "dropout_12 (Dropout)         (None, 1024)              0         \n",
      "_________________________________________________________________\n",
      "dense_6 (Dense)              (None, 18)                18450     \n",
      "=================================================================\n",
      "Total params: 10,260,018\n",
      "Trainable params: 10,260,018\n",
      "Non-trainable params: 0\n",
      "_________________________________________________________________\n"
     ]
    }
   ],
   "source": [
    "#Explicación de como cargar directamente el modelo final guardado manualmente \n",
    "!cp /content/drive/'My Drive'/CoffeeCoffee/New.h5  New.h5\n",
    "new_model = keras.models.load_model('New.h5')\n",
    "\n",
    "#Summary nos dice la arquitectura de la red neuronal\n",
    "new_model.summary()"
   ]
  },
  {
   "cell_type": "code",
   "execution_count": null,
   "metadata": {
    "colab": {},
    "colab_type": "code",
    "id": "2PhfyN9svOI0"
   },
   "outputs": [],
   "source": [
    "#Guardado de resultados en drive personal para poder usarlos después de que la sesión finalice\n",
    "!cp best_weights.hdf5 /content/drive/'My Drive'/CoffeeCoffee/best_weights.hdf5\n",
    "!cp New.h5 /content/drive/'My Drive'/CoffeeCoffee/New.h5\n",
    "!cp history.csv /content/drive/'My Drive'/CoffeeCoffee/history.csv"
   ]
  },
  {
   "cell_type": "markdown",
   "metadata": {
    "colab_type": "text",
    "id": "AedsH1jjymHD"
   },
   "source": [
    "##Predicciones Manuales"
   ]
  },
  {
   "cell_type": "code",
   "execution_count": null,
   "metadata": {
    "colab": {},
    "colab_type": "code",
    "id": "juEUT5MyrnUd"
   },
   "outputs": [],
   "source": [
    "def plot_and_predict(image, model, BGR=False, pic_size=64 ,all_perc=False):\n",
    "    pics = []\n",
    "    img = io.imread(image)\n",
    "    plt.imshow(img)\n",
    "    plt.show()\n",
    "    \n",
    "    #Lectura de la imagen con OpenCV\n",
    "    a = cv2.imread(image)\n",
    "\n",
    "    #Esto es importante, si se entreno en blanco y negro se debe hacer la lectura\n",
    "    #en blanco y negro, por defecto esta en blanco y negro BGR = False\n",
    "    if BGR:\n",
    "        a = cv2.cvtColor(a, cv2.COLOR_BGR2RGB)\n",
    "\n",
    "    #Se hace el resize a pic_size x pic_size por defecto esto es 64x64 \n",
    "    a = cv2.resize(a, (pic_size,pic_size))    \n",
    "\n",
    "    #Se le da el formato adecuado\n",
    "    #Primero se convierte en lista\n",
    "    #Para que tenga forma (1,pic_size,pic_size,3) que es el shape que \n",
    "    #requiere la red, por defecto esto es (1,64,64,3)\n",
    "    pics.append(a)\n",
    "\n",
    "    #Luego se pasa a un numpy array que es el formato requerido\n",
    "    pics_format = np.array(pics)\n",
    "\n",
    "    #Finalmente se normaliza cada banda en numeros con punto flotantes entre 0 y 1\n",
    "    pics_format = pics_format.astype('float32') / 255\n",
    "\n",
    "    Prediction = model.predict(pics_format[[0]])\n",
    "    return Prediction"
   ]
  },
  {
   "cell_type": "code",
   "execution_count": null,
   "metadata": {
    "colab": {
     "base_uri": "https://localhost:8080/",
     "height": 286
    },
    "colab_type": "code",
    "id": "ZPUAUQGJsNvs",
    "outputId": "c9e8b172-5bbc-45e1-f9b0-549765839b4e"
   },
   "outputs": [
    {
     "data": {
      "image/png": "[encoded data removed]",
      "text/plain": [
       "<Figure size 432x288 with 1 Axes>"
      ]
     },
     "metadata": {
      "needs_background": "light",
      "tags": []
     },
     "output_type": "display_data"
    },
    {
     "name": "stdout",
     "output_type": "stream",
     "text": [
      "maggie simpson\n"
     ]
    }
   ],
   "source": [
    "name  = 'pic_0105.jpg'\n",
    "image = '/content/Extra_Images/'\n",
    "image = '/content/characters/maggie_simpson/'\n",
    "\n",
    "new_model = keras.models.load_model('New.h5')\n",
    "predictions = plot_and_predict(image + name, new_model, pic_size=64)\n",
    "print(map_characters[np.argmax(predictions[0])].replace('_',' '))"
   ]
  }
 ],
 "metadata": {
  "accelerator": "GPU",
  "colab": {
   "collapsed_sections": [],
   "name": "Classification.ipynb",
   "provenance": [],
   "toc_visible": true
  },
  "kernelspec": {
   "display_name": "Python 3",
   "language": "python",
   "name": "python3"
  },
  "language_info": {
   "codemirror_mode": {
    "name": "ipython",
    "version": 3
   },
   "file_extension": ".py",
   "mimetype": "text/x-python",
   "name": "python",
   "nbconvert_exporter": "python",
   "pygments_lexer": "ipython3",
   "version": "3.7.7"
  }
 },
 "nbformat": 4,
 "nbformat_minor": 4
}
